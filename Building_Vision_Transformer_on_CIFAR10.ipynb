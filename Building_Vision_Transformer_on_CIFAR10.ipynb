{
 "cells": [
  {
   "cell_type": "markdown",
   "metadata": {
    "id": "KVsuNex1nqKe"
   },
   "source": [
    "## 1. Import Required Libraries\n"
   ]
  },
  {
   "cell_type": "code",
   "execution_count": null,
   "metadata": {
    "id": "FGJRCbNInSv9"
   },
   "outputs": [],
   "source": [
    "import torch\n",
    "import torch.nn as nn\n",
    "import torchvision\n",
    "import torch.nn.functional as F\n",
    "import torch.optim as optim\n",
    "from torch.utils.data import DataLoader\n",
    "from torchvision import datasets, transforms\n",
    "import numpy as np\n",
    "import random\n",
    "import matplotlib.pyplot as plt\n"
   ]
  },
  {
   "cell_type": "code",
   "execution_count": null,
   "metadata": {
    "colab": {
     "base_uri": "https://localhost:8080/",
     "height": 35
    },
    "id": "fccPBxUeohmx",
    "outputId": "6eb44e4b-b20f-4a93-f435-bf9295b4b0ae"
   },
   "outputs": [],
   "source": [
    "torch.__version__\n"
   ]
  },
  {
   "cell_type": "code",
   "execution_count": null,
   "metadata": {
    "colab": {
     "base_uri": "https://localhost:8080/",
     "height": 35
    },
    "id": "6vyKHLceomM_",
    "outputId": "a0abbd85-23a5-4427-b257-f348465e8d9b"
   },
   "outputs": [],
   "source": [
    "torchvision.__version__"
   ]
  },
  {
   "cell_type": "markdown",
   "metadata": {
    "id": "CbjGQDSyoxXG"
   },
   "source": [
    "## 2. Setup Device Agnostic Code\n"
   ]
  },
  {
   "cell_type": "code",
   "execution_count": null,
   "metadata": {
    "colab": {
     "base_uri": "https://localhost:8080/"
    },
    "id": "022fY4RjpNHq",
    "outputId": "dc7507b5-34ab-4ed4-c0d1-8a826f9ad33c"
   },
   "outputs": [],
   "source": [
    "torch.cuda.is_available()"
   ]
  },
  {
   "cell_type": "code",
   "execution_count": null,
   "metadata": {
    "colab": {
     "base_uri": "https://localhost:8080/",
     "height": 35
    },
    "id": "KziJkLpjo6-X",
    "outputId": "0a13bdc5-7a5b-46f1-b492-bc3d4710d034"
   },
   "outputs": [],
   "source": [
    "device = \"mps\" if torch.backends.mps.is_available() else \"cpu\"\n",
    "device"
   ]
  },
  {
   "cell_type": "code",
   "execution_count": null,
   "metadata": {
    "colab": {
     "base_uri": "https://localhost:8080/"
    },
    "id": "k276KL_HpMFe",
    "outputId": "db2d6032-2dab-4519-a8ac-20a90f55f6d9"
   },
   "outputs": [],
   "source": [
    "print(f\"Using Device:{device}\")"
   ]
  },
  {
   "cell_type": "markdown",
   "metadata": {
    "id": "sEjh0jV7pmMb"
   },
   "source": [
    "## 3. Set the seed"
   ]
  },
  {
   "cell_type": "code",
   "execution_count": null,
   "metadata": {
    "id": "fyhk3tYtpwQr"
   },
   "outputs": [],
   "source": [
    "torch.manual_seed(42)\n",
    "torch.cuda.manual_seed(42)\n",
    "random.seed(42)"
   ]
  },
  {
   "cell_type": "markdown",
   "metadata": {
    "id": "jxgtsj_UqGKG"
   },
   "source": [
    "## 4. Setting the Hyperparameters"
   ]
  },
  {
   "cell_type": "code",
   "execution_count": null,
   "metadata": {},
   "outputs": [],
   "source": [
    "1e-3"
   ]
  },
  {
   "cell_type": "code",
   "execution_count": null,
   "metadata": {
    "id": "v4hvMNKPqMcC"
   },
   "outputs": [],
   "source": [
    "BATCH_SIZE = 128\n",
    "EPOCHS = 20\n",
    "LEARNING_RATE = 0.0003\n",
    "PATCH_SIZE = 4\n",
    "NUM_CLASSES = 10\n",
    "IMAGE_SIZE = 32\n",
    "CHANNELS = 3\n",
    "EMBED_DIM = 256\n",
    "NUM_HEADS = 8\n",
    "DEPTH = 6\n",
    "MLP_DIM = 512\n",
    "DROP_RATE = 0.2"
   ]
  },
  {
   "cell_type": "markdown",
   "metadata": {
    "id": "pYJItZ22rZxQ"
   },
   "source": [
    "## 5. Define Image Transformations"
   ]
  },
  {
   "cell_type": "code",
   "execution_count": null,
   "metadata": {
    "id": "A0J3FEwEsAzV"
   },
   "outputs": [],
   "source": [
    "# transform = transforms.Compose([\n",
    "#     transforms.ToTensor(),\n",
    "#     transforms.Normalize((0.5),(0.5))\n",
    "#     # Helps the model to converge faster\n",
    "#     # Helps to make the numerical computations stable\n",
    "# ])\n",
    "\n",
    "transform_train = transforms.Compose([\n",
    "    transforms.RandomCrop(32, padding=4),\n",
    "    transforms.RandomHorizontalFlip(),\n",
    "    transforms.ToTensor(),\n",
    "    transforms.Normalize((0.5,0.5,0.5), (0.5,0.5,0.5))\n",
    "])\n",
    "\n",
    "\n",
    "transform_test = transforms.Compose([\n",
    "    transforms.ToTensor(),\n",
    "    transforms.Normalize((0.5,0.5,0.5), (0.5,0.5,0.5))\n",
    "])"
   ]
  },
  {
   "cell_type": "markdown",
   "metadata": {
    "id": "BgjstOris8Ie"
   },
   "source": [
    "## 6. Getting Dataset"
   ]
  },
  {
   "cell_type": "code",
   "execution_count": null,
   "metadata": {
    "colab": {
     "base_uri": "https://localhost:8080/"
    },
    "id": "cyE4vukAtLar",
    "outputId": "97ca602f-fdc2-4ccc-fee8-9dce9605f598"
   },
   "outputs": [],
   "source": [
    "train_dataset = datasets.CIFAR10(root = \"data\",\n",
    "                                 train = True,\n",
    "                                 download = True,\n",
    "                                 transform = transform_train\n",
    "                                 )"
   ]
  },
  {
   "cell_type": "code",
   "execution_count": null,
   "metadata": {
    "id": "iooRidQ9uR_P"
   },
   "outputs": [],
   "source": [
    "test_dataset = datasets.CIFAR10(root = \"data\",\n",
    "                                 train = False,\n",
    "                                 download = True,\n",
    "                                 transform = transform_test\n",
    "                                 )"
   ]
  },
  {
   "cell_type": "code",
   "execution_count": null,
   "metadata": {
    "colab": {
     "base_uri": "https://localhost:8080/"
    },
    "id": "bAQ3dpQGujlL",
    "outputId": "1486af29-3e41-4476-fc21-91b03427c76c"
   },
   "outputs": [],
   "source": [
    "train_dataset"
   ]
  },
  {
   "cell_type": "code",
   "execution_count": null,
   "metadata": {
    "colab": {
     "base_uri": "https://localhost:8080/"
    },
    "id": "Edz7EQ8Gul2z",
    "outputId": "52015212-14f6-4d83-94f5-29ffdda51d26"
   },
   "outputs": [],
   "source": [
    "test_dataset"
   ]
  },
  {
   "cell_type": "code",
   "execution_count": null,
   "metadata": {
    "colab": {
     "base_uri": "https://localhost:8080/"
    },
    "id": "e7AHW_k-uuDc",
    "outputId": "eb1e411d-28b0-46d9-ced8-3c041754ccca"
   },
   "outputs": [],
   "source": [
    "len(train_dataset)"
   ]
  },
  {
   "cell_type": "code",
   "execution_count": null,
   "metadata": {
    "colab": {
     "base_uri": "https://localhost:8080/"
    },
    "id": "X3veH_lEvFtv",
    "outputId": "ba1cee2b-bf41-409c-e6c0-6b6b0f85afc5"
   },
   "outputs": [],
   "source": [
    "len(test_dataset)"
   ]
  },
  {
   "cell_type": "markdown",
   "metadata": {
    "id": "ZbogmLPlvHlz"
   },
   "source": [
    "## 7. Converting our Datasets into DataLoaders\n",
    "Right now, our data is in the form of Pytorch Datasets,\n",
    "\n",
    "Dataloaders turns our data into batches (or mini-batches)\n",
    "\n",
    "Why?\n",
    "\n",
    "1. It is more computationally efficient, as in, your computing hardware may not be able to look (store in memory) at 50k images in one hit. So we can break it into 128 images at a time.(batch size of 128).\n",
    "\n",
    "2. It gives our neural network more chances to update its gradient per epoch"
   ]
  },
  {
   "cell_type": "code",
   "execution_count": null,
   "metadata": {
    "id": "VVn-D597vMK7"
   },
   "outputs": [],
   "source": [
    "train_loader = DataLoader(dataset = train_dataset,\n",
    "                          batch_size = BATCH_SIZE,\n",
    "                          shuffle = True\n",
    "                          )\n",
    "\n",
    "test_loader= DataLoader(dataset = test_dataset,\n",
    "                          batch_size = BATCH_SIZE,\n",
    "                          shuffle = False\n",
    "                          )"
   ]
  },
  {
   "cell_type": "code",
   "execution_count": null,
   "metadata": {
    "colab": {
     "base_uri": "https://localhost:8080/"
    },
    "id": "nbVyEEWUw_OZ",
    "outputId": "81253baf-b27c-4983-9f1e-13ed812717de"
   },
   "outputs": [],
   "source": [
    "print(f\"Dataloader: {train_loader, test_loader}\")\n",
    "print(f\"Length of trainloader: {len(train_loader)} batches of {BATCH_SIZE}...\")\n",
    "print(f\"Length of testloader: {len(test_loader)} batches of {BATCH_SIZE}...\")"
   ]
  },
  {
   "cell_type": "markdown",
   "metadata": {
    "id": "sW2zMQIGxYdD"
   },
   "source": [
    "## 8. Building Vision Transformer Model from Scratch"
   ]
  },
  {
   "cell_type": "code",
   "execution_count": null,
   "metadata": {
    "id": "aHOehw5nyA03"
   },
   "outputs": [],
   "source": [
    "class PatchEmbedding(nn.Module):\n",
    "  def __init__(self,\n",
    "               img_size,\n",
    "               patch_size,\n",
    "               in_channels,\n",
    "               embed_dim\n",
    "               ):\n",
    "    super().__init__()\n",
    "    self.patch_size = patch_size\n",
    "    self.proj = nn.Conv2d(in_channels = in_channels,\n",
    "                          out_channels = embed_dim,\n",
    "                          kernel_size=patch_size,\n",
    "                          stride = patch_size\n",
    "                          )\n",
    "    num_patches = (img_size //patch_size)**2\n",
    "    self.cls_token = nn.Parameter(torch.randn(1, 1, embed_dim))\n",
    "    self.pos_embed = nn.Parameter(torch.randn(1, 1 +num_patches, embed_dim))\n",
    "\n",
    "  def forward(self, x: torch.Tensor):\n",
    "    B = x.size(0)\n",
    "    x = self.proj(x) #(B, E, H/P, W/P)\n",
    "    x = x.flatten(2).transpose(1,2) #(B,N,E)\n",
    "    cls_token = self.cls_token.expand(B, -1, -1)\n",
    "    x = torch.cat((cls_token, x), dim = 1)\n",
    "    x = x + self.pos_embed\n",
    "    return x"
   ]
  },
  {
   "cell_type": "code",
   "execution_count": null,
   "metadata": {
    "id": "vhjhetoN39D_"
   },
   "outputs": [],
   "source": [
    "class MLP(nn.Module):\n",
    "  def __init__(self,\n",
    "               in_features,\n",
    "               hidden_features,\n",
    "               drop_rate):\n",
    "    super().__init__()\n",
    "    self.fc1 = nn.Linear(in_features=in_features, out_features=hidden_features)\n",
    "    self.fc2 = nn.Linear(in_features = hidden_features, out_features=in_features)\n",
    "    self.dropout = nn.Dropout(drop_rate)\n",
    "\n",
    "  def forward(self, x):\n",
    "    x = self.dropout(F.gelu(self.fc1(x)))\n",
    "    x = self.dropout(self.fc2(x))\n",
    "    return x\n",
    "\n"
   ]
  },
  {
   "cell_type": "code",
   "execution_count": null,
   "metadata": {
    "id": "IP-cXZxJ6s84"
   },
   "outputs": [],
   "source": [
    "class TransformerEncoderLayer(nn.Module):\n",
    "  def __init__(self, embed_dim, num_heads, mlp_dim, drop_rate):\n",
    "    super().__init__()\n",
    "    self.norm1 = nn.LayerNorm(embed_dim)\n",
    "    self.attn = nn.MultiheadAttention(embed_dim, num_heads, dropout = drop_rate, batch_first = True)\n",
    "    self.norm2 = nn.LayerNorm(embed_dim)\n",
    "    self.mlp = MLP(embed_dim, mlp_dim, drop_rate)\n",
    "\n",
    "  def forward(self,x):\n",
    "    x = x + self.attn(self.norm1(x), self.norm1(x), self.norm1(x))[0]\n",
    "    x = x+ self.mlp(self.norm2(x))\n",
    "    return x"
   ]
  },
  {
   "cell_type": "code",
   "execution_count": null,
   "metadata": {
    "id": "wtIW8YLG7-bC"
   },
   "outputs": [],
   "source": [
    "class VisionTransformer(nn.Module):\n",
    "  def __init__(self, img_size, patch_size, in_channels, num_classes, embed_dim, depth, num_heads, mlp_dim, drop_rate):\n",
    "    super().__init__()\n",
    "    self.patch_embed = (PatchEmbedding(img_size, patch_size, in_channels, embed_dim))\n",
    "    self.encoder = nn.Sequential(*[\n",
    "        TransformerEncoderLayer(embed_dim, num_heads, mlp_dim, drop_rate)\n",
    "        for _ in range(depth)\n",
    "    ])\n",
    "    self.norm = nn.LayerNorm(embed_dim)\n",
    "    self.head = nn.Linear(embed_dim, num_classes)\n",
    "\n",
    "  def forward(self,x):\n",
    "    x = self.patch_embed(x)\n",
    "    x = self.encoder(x)\n",
    "    x = self.norm(x)\n",
    "    cls_token = x[:, 0]\n",
    "    return self.head(cls_token)"
   ]
  },
  {
   "cell_type": "code",
   "execution_count": null,
   "metadata": {
    "id": "-eAO98i--GiH"
   },
   "outputs": [],
   "source": [
    "#Instantiate Model\n",
    "model = VisionTransformer(\n",
    "    IMAGE_SIZE, PATCH_SIZE, CHANNELS, NUM_CLASSES,\n",
    "    EMBED_DIM, DEPTH, NUM_HEADS, MLP_DIM, DROP_RATE\n",
    ").to(device)"
   ]
  },
  {
   "cell_type": "code",
   "execution_count": null,
   "metadata": {
    "colab": {
     "base_uri": "https://localhost:8080/"
    },
    "id": "ldxn-BNC_D9L",
    "outputId": "fb3c0d7b-21e2-49dd-83ff-f3a5531c3776"
   },
   "outputs": [],
   "source": [
    "model"
   ]
  },
  {
   "cell_type": "markdown",
   "metadata": {
    "id": "Ep5FclL2B4NZ"
   },
   "source": [
    "## 9. Defining a Loss function and Optimizer\n"
   ]
  },
  {
   "cell_type": "code",
   "execution_count": null,
   "metadata": {
    "id": "6gVC-snsC-Ne"
   },
   "outputs": [],
   "source": [
    "criterion = nn.CrossEntropyLoss() # Measure how wrong our model is\n",
    "optimizer = torch.optim.Adam(params = model.parameters(),\n",
    "                             lr = LEARNING_RATE) # update our models parameters to try and reduce the loss"
   ]
  },
  {
   "cell_type": "code",
   "execution_count": null,
   "metadata": {
    "colab": {
     "base_uri": "https://localhost:8080/"
    },
    "id": "Z6ztpz7qDToy",
    "outputId": "46514314-175b-4f60-dae9-3c86f2aa8de8"
   },
   "outputs": [],
   "source": [
    "criterion"
   ]
  },
  {
   "cell_type": "code",
   "execution_count": null,
   "metadata": {
    "colab": {
     "base_uri": "https://localhost:8080/"
    },
    "id": "simmJGa-DVYl",
    "outputId": "59452753-c5c6-4194-f20b-5ec757615390"
   },
   "outputs": [],
   "source": [
    "optimizer"
   ]
  },
  {
   "cell_type": "markdown",
   "metadata": {
    "id": "MDSIT0gIDW0x"
   },
   "source": [
    "## 10. Defining a training loop Function"
   ]
  },
  {
   "cell_type": "code",
   "execution_count": null,
   "metadata": {
    "id": "EvV267pnDjYr"
   },
   "outputs": [],
   "source": [
    "def train(model, loader, optimizer, criterion):\n",
    "  #Set the mode of the model into training\n",
    "  model.train()\n",
    "\n",
    "  total_loss, correct = 0,0\n",
    "\n",
    "  for x, y in loader:\n",
    "    #Sending data into target device\n",
    "    x,y = x.to(device), y.to(device)\n",
    "    optimizer.zero_grad()\n",
    "    #1.Forward pass ( model output raw logits)\n",
    "    out = model(x)\n",
    "    #2. Calculate loss (per batch)\n",
    "    loss = criterion(out, y)\n",
    "    #3. Perform back propagation\n",
    "    loss.backward()\n",
    "    #4. Perform Gradient Descent\n",
    "    optimizer.step()\n",
    "\n",
    "    total_loss += loss.item()*x.size(0)\n",
    "    correct += (out.argmax(1) == y).sum().item()\n",
    "  # You have to scale the loss (Normalization step to make the loss general across all batches by dividing  the loss,len dataloader)\n",
    "  return total_loss/len(loader.dataset), correct/len(loader.dataset)"
   ]
  },
  {
   "cell_type": "code",
   "execution_count": null,
   "metadata": {
    "id": "l25EPoC5WrPW"
   },
   "outputs": [],
   "source": [
    "def evaluate (model, loader):\n",
    "  model.eval() # set the mode of the model into evaluation\n",
    "  correct = 0\n",
    "  with torch.inference_mode():\n",
    "    for x,y in loader:\n",
    "      x, y = x.to(device), y.to(device)\n",
    "      out = model(x)\n",
    "      correct +=(out.argmax(dim = 1)==y).sum().item()\n",
    "  return correct/len(loader.dataset)\n"
   ]
  },
  {
   "cell_type": "code",
   "execution_count": null,
   "metadata": {
    "colab": {
     "base_uri": "https://localhost:8080/"
    },
    "id": "8RPP3nfWXIkQ",
    "outputId": "7dfd99fc-bf7d-4a56-bd17-20e50017a3c6"
   },
   "outputs": [],
   "source": [
    "EPOCHS"
   ]
  },
  {
   "cell_type": "code",
   "execution_count": null,
   "metadata": {
    "id": "Vemhav0LXMPZ"
   },
   "outputs": [],
   "source": [
    "from tqdm.auto import tqdm"
   ]
  },
  {
   "cell_type": "code",
   "execution_count": null,
   "metadata": {
    "colab": {
     "base_uri": "https://localhost:8080/",
     "height": 406,
     "referenced_widgets": [
      "b25cff09fd364e2a840e6213dc7fa4fd",
      "737b2e1be2f54b649aa678a65807d7e6",
      "0ab09f5df7a74d56b654bd9da4ea22c5",
      "ec021ead46e24d9282da32dfe0f88042",
      "012b86f94aa04f73908d24482d095fb3",
      "5120691ce1b543c4920435c0ffe2f1ec",
      "243bb9faa77e46b1814bd463dc6fae98",
      "9bd1335d6e2d430e9281503ef2513fb3",
      "06e113ff7bd84d68bd210c7cfb5e4448",
      "db9b4e33f4ac4e3ca0e7e1d62dfe2caa",
      "8c7920eb0df647e398ed8c5d8fc9456b"
     ]
    },
    "id": "L_AhPXGCVPmy",
    "outputId": "28facd46-5ac3-4f3a-94a0-2b4c14294c75"
   },
   "outputs": [],
   "source": [
    "# Training\n",
    "train_accuracies = []\n",
    "test_accuracies = []\n",
    "\n",
    "for epoch in tqdm(range(EPOCHS)):\n",
    "  train_loss, train_acc = train(model, train_loader, optimizer, criterion)\n",
    "  test_acc = evaluate(model, test_loader)\n",
    "  train_accuracies.append(train_acc)\n",
    "  test_accuracies.append(test_acc)\n",
    "  print(f\"Epoch: {epoch+1}/{EPOCHS}, Train loss:{train_loss:.4f}, Train acc:{train_acc:.4f}%, Test acc: {test_acc:.4f}\")"
   ]
  },
  {
   "cell_type": "code",
   "execution_count": null,
   "metadata": {
    "colab": {
     "base_uri": "https://localhost:8080/"
    },
    "id": "uxMDy6xfe2Ob",
    "outputId": "1c6b6267-d595-4a6c-87b2-5e06a4fea21c"
   },
   "outputs": [],
   "source": [
    "train_accuracies"
   ]
  },
  {
   "cell_type": "code",
   "execution_count": null,
   "metadata": {
    "id": "6kT_CczqfqJY"
   },
   "outputs": [],
   "source": [
    "import random"
   ]
  },
  {
   "cell_type": "code",
   "execution_count": null,
   "metadata": {
    "id": "nEeNh5DhfZOY"
   },
   "outputs": [],
   "source": [
    "def predict_and_plot_grid(model, dataset, classes, grid_size = 3):\n",
    "  model.eval()\n",
    "  fig, axes = plt.subplots(grid_size, grid_size, figsize = (9,9))\n",
    "  for i in range(grid_size):\n",
    "    for j in range(grid_size):\n",
    "      idx = random.randint(0, len(dataset) -1)\n",
    "      img, true_label = dataset[idx]\n",
    "      input_tensor = img.unsqueeze(dim = 0).to(device)\n",
    "      with torch.inference_mode():\n",
    "        output = model(input_tensor)\n",
    "        _, predicted = torch.max(output.data,1)\n",
    "      img = img/2 +0.5 #Unnormalize our images to use with matplotlib\n",
    "      npimg = img.cpu().numpy()\n",
    "      axes[i,j].imshow(np.transpose(npimg,(1, 2, 0)))\n",
    "      truth = classes[true_label] == classes[predicted.item()]\n",
    "      if truth:\n",
    "        color = \"g\"\n",
    "      else:\n",
    "        color = \"r\"\n",
    "      axes[i,j].set_title(f\"Truth: {classes[true_label]}\\n, Predicted: {classes[predicted.item()]} \", fontsize = 10, c= color)\n",
    "      axes[i,j].axis(\"off\")\n",
    "  plt.tight_layout()\n",
    "  plt.show()\n"
   ]
  },
  {
   "cell_type": "code",
   "execution_count": null,
   "metadata": {
    "colab": {
     "base_uri": "https://localhost:8080/",
     "height": 906
    },
    "id": "yNqXrHYyizes",
    "outputId": "b92d3d88-7157-4308-ea23-4d628fb47f0d"
   },
   "outputs": [],
   "source": [
    "predict_and_plot_grid(model, test_dataset, classes = train_dataset.classes, grid_size = 3)"
   ]
  },
  {
   "cell_type": "code",
   "execution_count": null,
   "metadata": {
    "id": "L29VslAjjRUR"
   },
   "outputs": [],
   "source": []
  }
 ],
 "metadata": {
  "accelerator": "GPU",
  "colab": {
   "gpuType": "T4",
   "provenance": []
  },
  "kernelspec": {
   "display_name": "Python [conda env:base] *",
   "language": "python",
   "name": "conda-base-py"
  },
  "language_info": {
   "codemirror_mode": {
    "name": "ipython",
    "version": 3
   },
   "file_extension": ".py",
   "mimetype": "text/x-python",
   "name": "python",
   "nbconvert_exporter": "python",
   "pygments_lexer": "ipython3",
   "version": "3.13.5"
  },
  "widgets": {
   "application/vnd.jupyter.widget-state+json": {
    "012b86f94aa04f73908d24482d095fb3": {
     "model_module": "@jupyter-widgets/base",
     "model_module_version": "1.2.0",
     "model_name": "LayoutModel",
     "state": {
      "_model_module": "@jupyter-widgets/base",
      "_model_module_version": "1.2.0",
      "_model_name": "LayoutModel",
      "_view_count": null,
      "_view_module": "@jupyter-widgets/base",
      "_view_module_version": "1.2.0",
      "_view_name": "LayoutView",
      "align_content": null,
      "align_items": null,
      "align_self": null,
      "border": null,
      "bottom": null,
      "display": null,
      "flex": null,
      "flex_flow": null,
      "grid_area": null,
      "grid_auto_columns": null,
      "grid_auto_flow": null,
      "grid_auto_rows": null,
      "grid_column": null,
      "grid_gap": null,
      "grid_row": null,
      "grid_template_areas": null,
      "grid_template_columns": null,
      "grid_template_rows": null,
      "height": null,
      "justify_content": null,
      "justify_items": null,
      "left": null,
      "margin": null,
      "max_height": null,
      "max_width": null,
      "min_height": null,
      "min_width": null,
      "object_fit": null,
      "object_position": null,
      "order": null,
      "overflow": null,
      "overflow_x": null,
      "overflow_y": null,
      "padding": null,
      "right": null,
      "top": null,
      "visibility": null,
      "width": null
     }
    },
    "06e113ff7bd84d68bd210c7cfb5e4448": {
     "model_module": "@jupyter-widgets/controls",
     "model_module_version": "1.5.0",
     "model_name": "ProgressStyleModel",
     "state": {
      "_model_module": "@jupyter-widgets/controls",
      "_model_module_version": "1.5.0",
      "_model_name": "ProgressStyleModel",
      "_view_count": null,
      "_view_module": "@jupyter-widgets/base",
      "_view_module_version": "1.2.0",
      "_view_name": "StyleView",
      "bar_color": null,
      "description_width": ""
     }
    },
    "0ab09f5df7a74d56b654bd9da4ea22c5": {
     "model_module": "@jupyter-widgets/controls",
     "model_module_version": "1.5.0",
     "model_name": "FloatProgressModel",
     "state": {
      "_dom_classes": [],
      "_model_module": "@jupyter-widgets/controls",
      "_model_module_version": "1.5.0",
      "_model_name": "FloatProgressModel",
      "_view_count": null,
      "_view_module": "@jupyter-widgets/controls",
      "_view_module_version": "1.5.0",
      "_view_name": "ProgressView",
      "bar_style": "success",
      "description": "",
      "description_tooltip": null,
      "layout": "IPY_MODEL_9bd1335d6e2d430e9281503ef2513fb3",
      "max": 20,
      "min": 0,
      "orientation": "horizontal",
      "style": "IPY_MODEL_06e113ff7bd84d68bd210c7cfb5e4448",
      "value": 20
     }
    },
    "243bb9faa77e46b1814bd463dc6fae98": {
     "model_module": "@jupyter-widgets/controls",
     "model_module_version": "1.5.0",
     "model_name": "DescriptionStyleModel",
     "state": {
      "_model_module": "@jupyter-widgets/controls",
      "_model_module_version": "1.5.0",
      "_model_name": "DescriptionStyleModel",
      "_view_count": null,
      "_view_module": "@jupyter-widgets/base",
      "_view_module_version": "1.2.0",
      "_view_name": "StyleView",
      "description_width": ""
     }
    },
    "5120691ce1b543c4920435c0ffe2f1ec": {
     "model_module": "@jupyter-widgets/base",
     "model_module_version": "1.2.0",
     "model_name": "LayoutModel",
     "state": {
      "_model_module": "@jupyter-widgets/base",
      "_model_module_version": "1.2.0",
      "_model_name": "LayoutModel",
      "_view_count": null,
      "_view_module": "@jupyter-widgets/base",
      "_view_module_version": "1.2.0",
      "_view_name": "LayoutView",
      "align_content": null,
      "align_items": null,
      "align_self": null,
      "border": null,
      "bottom": null,
      "display": null,
      "flex": null,
      "flex_flow": null,
      "grid_area": null,
      "grid_auto_columns": null,
      "grid_auto_flow": null,
      "grid_auto_rows": null,
      "grid_column": null,
      "grid_gap": null,
      "grid_row": null,
      "grid_template_areas": null,
      "grid_template_columns": null,
      "grid_template_rows": null,
      "height": null,
      "justify_content": null,
      "justify_items": null,
      "left": null,
      "margin": null,
      "max_height": null,
      "max_width": null,
      "min_height": null,
      "min_width": null,
      "object_fit": null,
      "object_position": null,
      "order": null,
      "overflow": null,
      "overflow_x": null,
      "overflow_y": null,
      "padding": null,
      "right": null,
      "top": null,
      "visibility": null,
      "width": null
     }
    },
    "737b2e1be2f54b649aa678a65807d7e6": {
     "model_module": "@jupyter-widgets/controls",
     "model_module_version": "1.5.0",
     "model_name": "HTMLModel",
     "state": {
      "_dom_classes": [],
      "_model_module": "@jupyter-widgets/controls",
      "_model_module_version": "1.5.0",
      "_model_name": "HTMLModel",
      "_view_count": null,
      "_view_module": "@jupyter-widgets/controls",
      "_view_module_version": "1.5.0",
      "_view_name": "HTMLView",
      "description": "",
      "description_tooltip": null,
      "layout": "IPY_MODEL_5120691ce1b543c4920435c0ffe2f1ec",
      "placeholder": "​",
      "style": "IPY_MODEL_243bb9faa77e46b1814bd463dc6fae98",
      "value": "100%"
     }
    },
    "8c7920eb0df647e398ed8c5d8fc9456b": {
     "model_module": "@jupyter-widgets/controls",
     "model_module_version": "1.5.0",
     "model_name": "DescriptionStyleModel",
     "state": {
      "_model_module": "@jupyter-widgets/controls",
      "_model_module_version": "1.5.0",
      "_model_name": "DescriptionStyleModel",
      "_view_count": null,
      "_view_module": "@jupyter-widgets/base",
      "_view_module_version": "1.2.0",
      "_view_name": "StyleView",
      "description_width": ""
     }
    },
    "9bd1335d6e2d430e9281503ef2513fb3": {
     "model_module": "@jupyter-widgets/base",
     "model_module_version": "1.2.0",
     "model_name": "LayoutModel",
     "state": {
      "_model_module": "@jupyter-widgets/base",
      "_model_module_version": "1.2.0",
      "_model_name": "LayoutModel",
      "_view_count": null,
      "_view_module": "@jupyter-widgets/base",
      "_view_module_version": "1.2.0",
      "_view_name": "LayoutView",
      "align_content": null,
      "align_items": null,
      "align_self": null,
      "border": null,
      "bottom": null,
      "display": null,
      "flex": null,
      "flex_flow": null,
      "grid_area": null,
      "grid_auto_columns": null,
      "grid_auto_flow": null,
      "grid_auto_rows": null,
      "grid_column": null,
      "grid_gap": null,
      "grid_row": null,
      "grid_template_areas": null,
      "grid_template_columns": null,
      "grid_template_rows": null,
      "height": null,
      "justify_content": null,
      "justify_items": null,
      "left": null,
      "margin": null,
      "max_height": null,
      "max_width": null,
      "min_height": null,
      "min_width": null,
      "object_fit": null,
      "object_position": null,
      "order": null,
      "overflow": null,
      "overflow_x": null,
      "overflow_y": null,
      "padding": null,
      "right": null,
      "top": null,
      "visibility": null,
      "width": null
     }
    },
    "b25cff09fd364e2a840e6213dc7fa4fd": {
     "model_module": "@jupyter-widgets/controls",
     "model_module_version": "1.5.0",
     "model_name": "HBoxModel",
     "state": {
      "_dom_classes": [],
      "_model_module": "@jupyter-widgets/controls",
      "_model_module_version": "1.5.0",
      "_model_name": "HBoxModel",
      "_view_count": null,
      "_view_module": "@jupyter-widgets/controls",
      "_view_module_version": "1.5.0",
      "_view_name": "HBoxView",
      "box_style": "",
      "children": [
       "IPY_MODEL_737b2e1be2f54b649aa678a65807d7e6",
       "IPY_MODEL_0ab09f5df7a74d56b654bd9da4ea22c5",
       "IPY_MODEL_ec021ead46e24d9282da32dfe0f88042"
      ],
      "layout": "IPY_MODEL_012b86f94aa04f73908d24482d095fb3"
     }
    },
    "db9b4e33f4ac4e3ca0e7e1d62dfe2caa": {
     "model_module": "@jupyter-widgets/base",
     "model_module_version": "1.2.0",
     "model_name": "LayoutModel",
     "state": {
      "_model_module": "@jupyter-widgets/base",
      "_model_module_version": "1.2.0",
      "_model_name": "LayoutModel",
      "_view_count": null,
      "_view_module": "@jupyter-widgets/base",
      "_view_module_version": "1.2.0",
      "_view_name": "LayoutView",
      "align_content": null,
      "align_items": null,
      "align_self": null,
      "border": null,
      "bottom": null,
      "display": null,
      "flex": null,
      "flex_flow": null,
      "grid_area": null,
      "grid_auto_columns": null,
      "grid_auto_flow": null,
      "grid_auto_rows": null,
      "grid_column": null,
      "grid_gap": null,
      "grid_row": null,
      "grid_template_areas": null,
      "grid_template_columns": null,
      "grid_template_rows": null,
      "height": null,
      "justify_content": null,
      "justify_items": null,
      "left": null,
      "margin": null,
      "max_height": null,
      "max_width": null,
      "min_height": null,
      "min_width": null,
      "object_fit": null,
      "object_position": null,
      "order": null,
      "overflow": null,
      "overflow_x": null,
      "overflow_y": null,
      "padding": null,
      "right": null,
      "top": null,
      "visibility": null,
      "width": null
     }
    },
    "ec021ead46e24d9282da32dfe0f88042": {
     "model_module": "@jupyter-widgets/controls",
     "model_module_version": "1.5.0",
     "model_name": "HTMLModel",
     "state": {
      "_dom_classes": [],
      "_model_module": "@jupyter-widgets/controls",
      "_model_module_version": "1.5.0",
      "_model_name": "HTMLModel",
      "_view_count": null,
      "_view_module": "@jupyter-widgets/controls",
      "_view_module_version": "1.5.0",
      "_view_name": "HTMLView",
      "description": "",
      "description_tooltip": null,
      "layout": "IPY_MODEL_db9b4e33f4ac4e3ca0e7e1d62dfe2caa",
      "placeholder": "​",
      "style": "IPY_MODEL_8c7920eb0df647e398ed8c5d8fc9456b",
      "value": " 20/20 [28:35&lt;00:00, 86.21s/it]"
     }
    }
   }
  }
 },
 "nbformat": 4,
 "nbformat_minor": 4
}
